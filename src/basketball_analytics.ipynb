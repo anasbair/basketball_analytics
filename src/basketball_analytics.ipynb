{
 "cells": [
  {
   "cell_type": "code",
   "execution_count": 2,
   "metadata": {},
   "outputs": [],
   "source": [
    "import pandas as pd"
   ]
  },
  {
   "cell_type": "code",
   "execution_count": 3,
   "metadata": {},
   "outputs": [],
   "source": [
    "# Load the Excel file\n",
    "file_path = 'Input data.xlsx'"
   ]
  },
  {
   "cell_type": "code",
   "execution_count": 4,
   "metadata": {},
   "outputs": [
    {
     "data": {
      "text/html": [
       "<div>\n",
       "<style scoped>\n",
       "    .dataframe tbody tr th:only-of-type {\n",
       "        vertical-align: middle;\n",
       "    }\n",
       "\n",
       "    .dataframe tbody tr th {\n",
       "        vertical-align: top;\n",
       "    }\n",
       "\n",
       "    .dataframe thead th {\n",
       "        text-align: right;\n",
       "    }\n",
       "</style>\n",
       "<table border=\"1\" class=\"dataframe\">\n",
       "  <thead>\n",
       "    <tr style=\"text-align: right;\">\n",
       "      <th></th>\n",
       "      <th>0</th>\n",
       "    </tr>\n",
       "  </thead>\n",
       "  <tbody>\n",
       "    <tr>\n",
       "      <th>0</th>\n",
       "      <td>NaN</td>\n",
       "    </tr>\n",
       "    <tr>\n",
       "      <th>1</th>\n",
       "      <td>FRANCE: LNB - Play Offs</td>\n",
       "    </tr>\n",
       "    <tr>\n",
       "      <th>2</th>\n",
       "      <td>Draw</td>\n",
       "    </tr>\n",
       "    <tr>\n",
       "      <th>3</th>\n",
       "      <td>FINAL</td>\n",
       "    </tr>\n",
       "    <tr>\n",
       "      <th>4</th>\n",
       "      <td>12.06. 22:05</td>\n",
       "    </tr>\n",
       "  </tbody>\n",
       "</table>\n",
       "</div>"
      ],
      "text/plain": [
       "                         0\n",
       "0                      NaN\n",
       "1  FRANCE: LNB - Play Offs\n",
       "2                     Draw\n",
       "3                    FINAL\n",
       "4             12.06. 22:05"
      ]
     },
     "execution_count": 4,
     "metadata": {},
     "output_type": "execute_result"
    }
   ],
   "source": [
    "# Read the 'Input' sheet \n",
    "input_df = pd.read_excel(file_path, sheet_name='Input', header=None)\n",
    "input_df.head()\n"
   ]
  },
  {
   "cell_type": "code",
   "execution_count": 6,
   "metadata": {},
   "outputs": [
    {
     "data": {
      "text/html": [
       "<div>\n",
       "<style scoped>\n",
       "    .dataframe tbody tr th:only-of-type {\n",
       "        vertical-align: middle;\n",
       "    }\n",
       "\n",
       "    .dataframe tbody tr th {\n",
       "        vertical-align: top;\n",
       "    }\n",
       "\n",
       "    .dataframe thead th {\n",
       "        text-align: right;\n",
       "    }\n",
       "</style>\n",
       "<table border=\"1\" class=\"dataframe\">\n",
       "  <thead>\n",
       "    <tr style=\"text-align: right;\">\n",
       "      <th></th>\n",
       "      <th>0</th>\n",
       "    </tr>\n",
       "  </thead>\n",
       "  <tbody>\n",
       "    <tr>\n",
       "      <th>0</th>\n",
       "      <td>12.06. 22:05</td>\n",
       "    </tr>\n",
       "    <tr>\n",
       "      <th>1</th>\n",
       "      <td>Paris</td>\n",
       "    </tr>\n",
       "    <tr>\n",
       "      <th>2</th>\n",
       "      <td>Monaco</td>\n",
       "    </tr>\n",
       "    <tr>\n",
       "      <th>3</th>\n",
       "      <td>76</td>\n",
       "    </tr>\n",
       "    <tr>\n",
       "      <th>4</th>\n",
       "      <td>115</td>\n",
       "    </tr>\n",
       "  </tbody>\n",
       "</table>\n",
       "</div>"
      ],
      "text/plain": [
       "              0\n",
       "0  12.06. 22:05\n",
       "1         Paris\n",
       "2        Monaco\n",
       "3            76\n",
       "4           115"
      ]
     },
     "execution_count": 6,
     "metadata": {},
     "output_type": "execute_result"
    }
   ],
   "source": [
    "# Read the 'Input2' sheet\n",
    "input_df_clean = pd.read_excel(file_path, sheet_name='Input_manually_cleaned', header=None)\n",
    "input_df_clean.head()"
   ]
  },
  {
   "cell_type": "code",
   "execution_count": 7,
   "metadata": {},
   "outputs": [],
   "source": [
    "# Initialize lists to store extracted data\n",
    "final_scores = []\n",
    "teams = []\n",
    "q1_scores = []\n",
    "q2_scores = []\n",
    "q3_scores = []\n",
    "q4_scores = []\n"
   ]
  },
  {
   "cell_type": "code",
   "execution_count": 8,
   "metadata": {},
   "outputs": [],
   "source": [
    "# Iterate through the rows and extract relevant data\n",
    "for i in range(0, len(input_df_clean), 13):  # Assuming each game data spans 13 rows\n",
    "    if i + 12 < len(input_df_clean):\n",
    "        \n",
    "        teams.append(input_df_clean.iloc[i + 1, 0])  # Final score\n",
    "        teams.append(input_df_clean.iloc[i + 2, 0])  # Final score\n",
    "        #print(teams) \n",
    "        final_scores.append(input_df_clean.iloc[i + 3, 0])  # Final score\n",
    "        final_scores.append(input_df_clean.iloc[i + 4, 0])  # Final score\n",
    "         \n",
    "        q1_scores.append(input_df_clean.iloc[i + 5, 0])  # Q1 score\n",
    "        q1_scores.append(input_df_clean.iloc[i + 6, 0])  # Q1 score\n",
    "        \n",
    "        q2_scores.append(input_df_clean.iloc[i + 7, 0])  # Q2 score\n",
    "        q2_scores.append(input_df_clean.iloc[i + 8, 0])  # Q2 score\n",
    "        \n",
    "        q3_scores.append(input_df_clean.iloc[i + 9, 0])  # Q3 score\n",
    "        q3_scores.append(input_df_clean.iloc[i + 10, 0])  # Q3 score\n",
    "        \n",
    "        q4_scores.append(input_df_clean.iloc[i + 11, 0])  # Q4 score\n",
    "        q4_scores.append(input_df_clean.iloc[i + 12, 0])  # Q4 score"
   ]
  },
  {
   "cell_type": "code",
   "execution_count": 9,
   "metadata": {},
   "outputs": [],
   "source": [
    "# Create a DataFrame with the extracted data\n",
    "data_dict = {\n",
    "    'Teams': teams,\n",
    "    'Final': final_scores,\n",
    "    '1': q1_scores,\n",
    "    '2': q2_scores,\n",
    "    '3': q3_scores,\n",
    "    '4': q4_scores\n",
    "}\n",
    "formatted_df = pd.DataFrame(data_dict)"
   ]
  },
  {
   "cell_type": "code",
   "execution_count": 10,
   "metadata": {},
   "outputs": [
    {
     "data": {
      "text/html": [
       "<div>\n",
       "<style scoped>\n",
       "    .dataframe tbody tr th:only-of-type {\n",
       "        vertical-align: middle;\n",
       "    }\n",
       "\n",
       "    .dataframe tbody tr th {\n",
       "        vertical-align: top;\n",
       "    }\n",
       "\n",
       "    .dataframe thead th {\n",
       "        text-align: right;\n",
       "    }\n",
       "</style>\n",
       "<table border=\"1\" class=\"dataframe\">\n",
       "  <thead>\n",
       "    <tr style=\"text-align: right;\">\n",
       "      <th></th>\n",
       "      <th>Teams</th>\n",
       "      <th>Final</th>\n",
       "      <th>1</th>\n",
       "      <th>2</th>\n",
       "      <th>3</th>\n",
       "      <th>4</th>\n",
       "    </tr>\n",
       "  </thead>\n",
       "  <tbody>\n",
       "    <tr>\n",
       "      <th>0</th>\n",
       "      <td>Paris</td>\n",
       "      <td>76</td>\n",
       "      <td>18</td>\n",
       "      <td>19</td>\n",
       "      <td>18</td>\n",
       "      <td>21</td>\n",
       "    </tr>\n",
       "    <tr>\n",
       "      <th>1</th>\n",
       "      <td>Monaco</td>\n",
       "      <td>115</td>\n",
       "      <td>37</td>\n",
       "      <td>26</td>\n",
       "      <td>30</td>\n",
       "      <td>22</td>\n",
       "    </tr>\n",
       "    <tr>\n",
       "      <th>2</th>\n",
       "      <td>Paris</td>\n",
       "      <td>59</td>\n",
       "      <td>14</td>\n",
       "      <td>21</td>\n",
       "      <td>10</td>\n",
       "      <td>14</td>\n",
       "    </tr>\n",
       "    <tr>\n",
       "      <th>3</th>\n",
       "      <td>Monaco</td>\n",
       "      <td>88</td>\n",
       "      <td>28</td>\n",
       "      <td>18</td>\n",
       "      <td>18</td>\n",
       "      <td>24</td>\n",
       "    </tr>\n",
       "    <tr>\n",
       "      <th>4</th>\n",
       "      <td>Monaco</td>\n",
       "      <td>70</td>\n",
       "      <td>11</td>\n",
       "      <td>25</td>\n",
       "      <td>15</td>\n",
       "      <td>19</td>\n",
       "    </tr>\n",
       "  </tbody>\n",
       "</table>\n",
       "</div>"
      ],
      "text/plain": [
       "    Teams  Final   1   2   3   4\n",
       "0   Paris     76  18  19  18  21\n",
       "1  Monaco    115  37  26  30  22\n",
       "2   Paris     59  14  21  10  14\n",
       "3  Monaco     88  28  18  18  24\n",
       "4  Monaco     70  11  25  15  19"
      ]
     },
     "execution_count": 10,
     "metadata": {},
     "output_type": "execute_result"
    }
   ],
   "source": [
    "formatted_df.head()"
   ]
  },
  {
   "cell_type": "code",
   "execution_count": 11,
   "metadata": {},
   "outputs": [
    {
     "name": "stdout",
     "output_type": "stream",
     "text": [
      "Data has been formatted and saved to Formatted Output.xlsx\n"
     ]
    }
   ],
   "source": [
    "# Save the transformed data to a new Excel file\n",
    "output_file_path = 'Formatted Output.xlsx'\n",
    "with pd.ExcelWriter(output_file_path) as writer:\n",
    "    formatted_df.to_excel(writer, sheet_name='Output', index=False)\n",
    "\n",
    "print(f\"Data has been formatted and saved to {output_file_path}\")"
   ]
  },
  {
   "cell_type": "code",
   "execution_count": null,
   "metadata": {},
   "outputs": [],
   "source": []
  }
 ],
 "metadata": {
  "kernelspec": {
   "display_name": "basketball_analytics",
   "language": "python",
   "name": "python3"
  },
  "language_info": {
   "codemirror_mode": {
    "name": "ipython",
    "version": 3
   },
   "file_extension": ".py",
   "mimetype": "text/x-python",
   "name": "python",
   "nbconvert_exporter": "python",
   "pygments_lexer": "ipython3",
   "version": "3.12.4"
  }
 },
 "nbformat": 4,
 "nbformat_minor": 2
}
